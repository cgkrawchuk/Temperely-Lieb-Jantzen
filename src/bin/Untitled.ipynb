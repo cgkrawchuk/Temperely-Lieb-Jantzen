{
 "cells": [
  {
   "cell_type": "code",
   "execution_count": 22,
   "metadata": {},
   "outputs": [
    {
     "name": "stdout",
     "output_type": "stream",
     "text": [
      "[a b c]\n",
      "[d e f]\n",
      "[g h i]\n",
      "[                 a                  b                  c]\n",
      "[   d*sigma + g*tao    e*sigma + h*tao    f*sigma + i*tao]\n",
      "[ alpha*g - d*gamma -e*gamma + alpha*h -f*gamma + alpha*i]\n"
     ]
    }
   ],
   "source": [
    "t=1\n",
    "k=2\n",
    "var('sigma,tao,alpha,gamma')\n",
    "\n",
    "var('a,b,c,d,e,f,g,h,i')\n",
    "\n",
    "A=matrix([[a,b,c],[d,e,f],[g,h,i]])\n",
    "print(A)\n",
    "L  = identity_matrix(SR,3)\n",
    "L[t,t]=sigma\n",
    "L[t,k]=tao\n",
    "L[k,t]=-gamma\n",
    "L[k,k]=alpha\n",
    "\n",
    "print(L*A)\n",
    "\n",
    "\n"
   ]
  },
  {
   "cell_type": "code",
   "execution_count": 42,
   "metadata": {},
   "outputs": [
    {
     "name": "stdout",
     "output_type": "stream",
     "text": [
      "[a b c]\n",
      "[d e f]\n",
      "[g h i]\n",
      "[              a               b               c]\n",
      "[d*sigma + g*tao e*sigma + h*tao f*sigma + i*tao]\n",
      "[              g               h               i]\n"
     ]
    }
   ],
   "source": [
    "t=1\n",
    "k=2\n",
    "var('sigma,tao,alpha,gamma')\n",
    "\n",
    "var('a,b,c,d,e,f,g,h,i')\n",
    "\n",
    "A=matrix([[a,b,c],[d,e,f],[g,h,i]])\n",
    "print(A)\n",
    "L  = identity_matrix(SR,3)\n",
    "L[t,t]=sigma\n",
    "L[t,k]=tao\n",
    "L[k,t]=-gamma\n",
    "L[k,k]=alpha\n",
    "\n",
    "\n",
    "\n",
    "#row t over number of columns of A\n",
    "for j in range(0,3):\n",
    "    A[t,j]= sigma *A[t,j]+tao *A[k,j]\n",
    "    \n",
    " \n",
    "    \n",
    "print(A)"
   ]
  },
  {
   "cell_type": "code",
   "execution_count": 45,
   "metadata": {},
   "outputs": [
    {
     "name": "stdout",
     "output_type": "stream",
     "text": [
      "[a b c]\n",
      "[d e f]\n",
      "[g h i]\n",
      "[                 a                  b                  c]\n",
      "[                 d                  e                  f]\n",
      "[ alpha*g - d*gamma -e*gamma + alpha*h -f*gamma + alpha*i]\n"
     ]
    }
   ],
   "source": [
    "t=1\n",
    "k=2\n",
    "var('sigma,tao,alpha,gamma')\n",
    "\n",
    "var('a,b,c,d,e,f,g,h,i')\n",
    "\n",
    "A=matrix([[a,b,c],[d,e,f],[g,h,i]])\n",
    "print(A)\n",
    "L  = identity_matrix(SR,3)\n",
    "L[t,t]=sigma\n",
    "L[t,k]=tao\n",
    "L[k,t]=-gamma\n",
    "L[k,k]=alpha\n",
    "\n",
    "#row k over number of columns of A\n",
    "for j in range(0,3):\n",
    "    A[k,j]= alpha *A[k,j]-gamma *A[t,j]\n",
    "    \n",
    "print(A)"
   ]
  }
 ],
 "metadata": {
  "kernelspec": {
   "display_name": "SageMath 9.0",
   "language": "sage",
   "name": "sagemath"
  },
  "language_info": {
   "codemirror_mode": {
    "name": "ipython",
    "version": 3
   },
   "file_extension": ".py",
   "mimetype": "text/x-python",
   "name": "python",
   "nbconvert_exporter": "python",
   "pygments_lexer": "ipython3",
   "version": "3.8.10"
  }
 },
 "nbformat": 4,
 "nbformat_minor": 4
}
