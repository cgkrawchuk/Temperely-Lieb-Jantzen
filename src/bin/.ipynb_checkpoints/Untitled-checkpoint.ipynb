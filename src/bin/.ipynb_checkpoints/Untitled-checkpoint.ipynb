{
 "cells": [
  {
   "cell_type": "code",
   "execution_count": 5,
   "metadata": {},
   "outputs": [
    {
     "name": "stdout",
     "output_type": "stream",
     "text": [
      "[a^2 + b*d + c*g a*b + b*e + c*h a*c + b*f + c*i]\n",
      "[a*d + d*e + f*g b*d + e^2 + f*h c*d + e*f + f*i]\n",
      "[a*g + d*h + g*i b*g + e*h + h*i c*g + f*h + i^2]\n"
     ]
    }
   ],
   "source": [
    "var('sigma,tao,alpha,gamma')\n",
    "M= matrix([[a,b,c],[d,e,f],[g,h,i]])\n",
    "print(M*M)\n"
   ]
  }
 ],
 "metadata": {
  "kernelspec": {
   "display_name": "SageMath 9.0",
   "language": "sage",
   "name": "sagemath"
  },
  "language_info": {
   "codemirror_mode": {
    "name": "ipython",
    "version": 3
   },
   "file_extension": ".py",
   "mimetype": "text/x-python",
   "name": "python",
   "nbconvert_exporter": "python",
   "pygments_lexer": "ipython3",
   "version": "3.8.10"
  }
 },
 "nbformat": 4,
 "nbformat_minor": 4
}
